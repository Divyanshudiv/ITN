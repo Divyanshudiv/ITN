{
 "cells": [
  {
   "cell_type": "markdown",
   "metadata": {},
   "source": [
    "# WFST Tutorial\n",
    "## Introduction to Weighted Finite State Transducers (WFSTs)\n",
    "Weighted Finite State Transducers (WFSTs) are automata where each transition between states is labeled with an input symbol, an output symbol, and a weight (usually representing cost or probability). These structures are commonly used in speech recognition, text normalization, and other fields where mapping between sequences with a cost function is needed.\n",
    "\n",
    "In this notebook, we'll explore how to construct your own WFST using the provided `WFST` class. We will go through key methods, explain their purposes, and demonstrate how to implement custom transitions and states.\n",
    "Let's dive into the core aspects of building a WFST.\n"
   ]
  },
  {
   "cell_type": "markdown",
   "metadata": {},
   "source": [
    "## WFST Class Overview\n",
    "The `WFST` class enables you to create a custom finite state transducer by adding states, transitions, and weights between them. Below is a list of the key methods and how they work:\n",
    "\n",
    "- `set_start_state(state)`: Sets and adds the start state of the WFST. This is the initial state from which transitions begin.\n",
    "- `add_state(state)`: Adds an intermediate state. States can represent different stages in the transducer.\n",
    "- `add_final_state(state)`: Marks the state as a final state, indicating that the transduction can successfully terminate when reaching this state.\n",
    "- `add_transition(from_state, to_state, input_symbol, output_symbol, weight)`:\n",
    "    - Adds a transition (or arc) from `from_state` to `to_state` based on the provided input and output symbols, with an associated weight (or cost).\n",
    "    - This is the core method for building relationships between states.\n",
    "- `add_epsilon_transition(from_state, to_state)`: Adds a transition between states without requiring an input (epsilon transition).\n",
    "- `process(input_sequence)`: Processes an input sequence, attempting to traverse the WFST and return the output sequence along with the total weight (or cost) of the path.\n"
   ]
  },
  {
   "cell_type": "markdown",
   "metadata": {},
   "source": [
    "## Step-by-Step Example: Creating a Simple WFST\n",
    "Let's walk through an example of how to create a WFST with a few states and transitions.\n",
    "\n"
   ]
  },
  {
   "cell_type": "code",
   "execution_count": null,
   "metadata": {},
   "outputs": [],
   "source": [
    "import spacy\n",
    "from spacy.matcher import Matcher\n",
    "from wfst import WFST, CompositeWFST, composite_wfst, tokenize, extract_numerical_data"
   ]
  },
  {
   "cell_type": "markdown",
   "metadata": {},
   "source": [
    "### Step 1: Define the WFST\n"
   ]
  },
  {
   "cell_type": "code",
   "execution_count": null,
   "metadata": {},
   "outputs": [],
   "source": [
    "wfst = WFST('name')"
   ]
  },
  {
   "cell_type": "markdown",
   "metadata": {},
   "source": [
    "This creates an empty WFST. Now we need to add states and transitions.\n",
    "\n",
    "### Step 2: Set the Start State\n",
    "```python\n",
    "wfst.set_start_state(0)\n",
    "```\n",
    "Here, we set the start state to `0`. States are represented by integers.\n",
    "\n",
    "### Step 3: Add States and Transitions\n",
    "Let's add some intermediary states and transitions between them.\n",
    "```python\n",
    "wfst.add_state(1)\n",
    "wfst.add_state(2)\n",
    "wfst.add_transition(0, 1, 'a', 'x', 0.5)\n",
    "wfst.add_transition(1, 2, 'b', 'y', 1.0)\n",
    "```\n",
    "This code adds two intermediary states (1 and 2) and connects them with transitions. The first transition maps input `a` to output `x` with a weight of `0.5`, and the second transition maps `b` to `y` with a weight of `1.0`.\n",
    "\n",
    "### Step 4: Define a Final State\n",
    "```python\n",
    "wfst.add_final_state(2)\n",
    "```\n",
    "Marking state `2` as the final state means that if the WFST reaches this state, it successfully processes an input sequence.\n",
    "\n",
    "### Step 5: Process an Input Sequence\n",
    "Now let's process an input sequence to see how it works.\n",
    "```python\n",
    "input_sequence = ['a', 'b']\n",
    "output_sequence, total_weight = wfst.process(input_sequence)\n",
    "print(f'Output: {output_sequence}, Weight: {total_weight}')\n",
    "```\n",
    "This processes the input sequence `['a', 'b']` through the WFST and prints the output sequence and the total weight (cost) of the transitions.\n",
    "\n",
    "You can now build your own WFST by following similar steps, adding states, transitions, and processing sequences.\n"
   ]
  },
  {
   "cell_type": "markdown",
   "metadata": {},
   "source": [
    "## Advanced Example: Using Epsilon Transitions\n",
    "Sometimes, it's necessary to have transitions that don't consume any input (epsilon transitions).\n",
    "Let's add an epsilon transition to our previous example.\n",
    "```python\n",
    "wfst.add_epsilon_transition(2, 0)\n",
    "```\n",
    "This adds a transition from state `2` back to state `0` without consuming any input symbol. Epsilon transitions are useful in many applications such as text normalization.\n"
   ]
  },
  {
   "cell_type": "markdown",
   "metadata": {},
   "source": []
  },
  {
   "cell_type": "markdown",
   "metadata": {},
   "source": [
    "## Building Your Own WFST\n",
    "You now have the basic tools to build your own WFST. Follow these steps to customize it for different applications:\n",
    "1. Define your start, intermediate, and final states.\n",
    "2. Add transitions with appropriate input/output symbols and weights.\n",
    "3. Use epsilon transitions if needed.\n",
    "4. Process input sequences to obtain output sequences and their associated costs.\n",
    "\n",
    "Feel free to experiment and adapt the WFST structure for tasks like text normalization, speech processing, or sequence mapping.\n"
   ]
  }
 ],
 "metadata": {
  "kernelspec": {
   "display_name": "Python 3",
   "language": "python",
   "name": "python3"
  },
  "language_info": {
   "name": "python",
   "version": "3.9.6"
  }
 },
 "nbformat": 4,
 "nbformat_minor": 2
}
