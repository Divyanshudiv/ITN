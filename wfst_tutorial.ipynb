{
 "cells": [
  {
   "cell_type": "markdown",
   "metadata": {},
   "source": [
    "# WFST Tutorial\n",
    "## Introduction to Weighted Finite State Transducers (WFSTs)\n",
    "Weighted Finite State Transducers (WFSTs) are automata where each transition between states is labeled with an input symbol, an output symbol, and a weight (usually representing cost or probability). These structures are commonly used in speech recognition, text normalization, and other fields where mapping between sequences with a cost function is needed.\n",
    "\n",
    "In this notebook, we'll explore how to construct your own WFST using the provided `WFST` class. We will go through key methods, explain their purposes, and demonstrate how to implement custom transitions and states.\n",
    "Let's dive into the core aspects of building a WFST.\n"
   ]
  },
  {
   "cell_type": "markdown",
   "metadata": {},
   "source": [
    "## WFST Class Overview\n",
    "The `WFST` class enables you to create a custom finite state transducer by adding states, transitions, and weights between them. Below is a list of the key methods and how they work:\n",
    "\n",
    "- `set_start_state(state)`: Sets and adds the start state of the WFST. This is the initial state from which transitions begin.\n",
    "- `add_state(state)`: Adds an intermediate state. States can represent different stages in the transducer.\n",
    "- `add_final_state(state)`: Marks the state as a final state, indicating that the transduction can successfully terminate when reaching this state.\n",
    "- `add_transition(from_state, to_state, input_symbol, output_symbol, weight)`:\n",
    "    - Adds a transition (or arc) from `from_state` to `to_state` based on the provided input and output symbols, with an associated weight (or cost).\n",
    "    - This is the core method for building relationships between states.\n",
    "- `add_epsilon_transition(from_state, to_state)`: Adds a transition between states without requiring an input (epsilon transition).\n",
    "- `process(input_sequence)`: Processes an input sequence, attempting to traverse the WFST and return the output sequence along with the total weight (or cost) of the path.\n"
   ]
  },
  {
   "cell_type": "markdown",
   "metadata": {},
   "source": [
    "## Step-by-Step Example: Creating a Simple WFST\n",
    "Let's walk through an example of how to create a WFST with a few states and transitions.\n",
    "\n"
   ]
  },
  {
   "cell_type": "code",
   "execution_count": 158,
   "metadata": {},
   "outputs": [],
   "source": [
    "graph_input_category = {}\n",
    "\n",
    "class WFST:\n",
    "    def __init__(self, title):\n",
    "        self.category = title\n",
    "        self.states = {}\n",
    "        self.start_state = None\n",
    "        self.final_state = set()\n",
    "\n",
    "    def set_start_state(self, state):\n",
    "        self.start_state = state\n",
    "\n",
    "    def add_state(self, state):\n",
    "        if state not in self.states:\n",
    "            self.states[state] = {}\n",
    "\n",
    "    def add_final_state(self, state):\n",
    "        self.final_state.add(state)\n",
    "\n",
    "    def add_transition(self, from_state, to_state, input_symbol, output_symbol, weight=0):\n",
    "        self.add_state(from_state)\n",
    "        self.add_state(to_state)\n",
    "        keys = list(graph_input_category.keys())\n",
    "        if input_symbol not in keys:\n",
    "            graph_input_category[input_symbol] = self.category\n",
    "        if input_symbol not in self.states[from_state]:\n",
    "            self.states[from_state][input_symbol] = []\n",
    "        self.states[from_state][input_symbol].append((to_state, output_symbol, weight))\n",
    "\n",
    "    def add_epsilon_transition(self, from_state, to_state, output_symbol, weight=0):\n",
    "        self.add_transition(from_state, to_state, '', output_symbol, weight)\n",
    "\n",
    "    def insert(self, start_state, num_transitions, output_symbol):\n",
    "        current_state = start_state\n",
    "        for i in range(num_transitions):\n",
    "            new_state = current_state + 1\n",
    "            self.add_epsilon_transition(current_state, new_state, output_symbol)\n",
    "            current_state = new_state\n",
    "        self.add_final_state(current_state)\n",
    "\n",
    "    def process(self, input_sequence): \n",
    "        current_output = ''\n",
    "        current_weight = 0\n",
    "        next_states = []\n",
    "        for state in self.states:\n",
    "            if state not in self.final_state:\n",
    "                values = list(self.states[state].values())\n",
    "                next_state = 0\n",
    "                output_symbol = ''\n",
    "                weight = 10**10\n",
    "                for itr in values:\n",
    "                    for (buffer_next_state, buffer_output_symbol, buffer_weight) in itr:\n",
    "                        if weight >= buffer_weight:\n",
    "                            next_state = buffer_next_state\n",
    "                            output_symbol = buffer_output_symbol\n",
    "                            weight = buffer_weight\n",
    "                next_states.append((next_state, current_output + output_symbol, current_weight + weight))\n",
    "                current_output += output_symbol\n",
    "                current_weight += weight\n",
    "\n",
    "        return next_states[len(next_states) - 1]\n",
    "\n",
    "    def compose(self, other, input):\n",
    "        result = WFST(self.category + other.category)\n",
    "        result.set_start_state(0)\n",
    "        i = 0\n",
    "        for s1 in self.states:\n",
    "            i = s1  \n",
    "            if s1 not in self.final_state:\n",
    "                for symbol1 in self.states[s1]:\n",
    "                    for (n1, o1, w1) in self.states[s1][symbol1]:\n",
    "                        result.add_transition(i, i + 1, symbol1, o1, w1)\n",
    "        if len(self.states) > len(other.states):\n",
    "            i = i - len(other.states) + 1\n",
    "        for s1 in other.states:\n",
    "            if s1 not in other.final_state:\n",
    "                if input == []:\n",
    "                    symbol = None\n",
    "                elif isinstance(input, list):\n",
    "                    symbol = input[0]\n",
    "                else:\n",
    "                    symbol = input\n",
    "                if symbol in other.states[s1]:\n",
    "                    for (next_state, output_symbol, weight) in other.states[s1][symbol]:\n",
    "                        result.add_transition(i, i + 1, symbol, output_symbol, weight)\n",
    "                        if isinstance(input, list):\n",
    "                            input.pop(0)\n",
    "                elif '' in other.states[s1]:\n",
    "                    for (next_state, output_symbol, weight) in other.states[s1]['']:\n",
    "                        result.add_transition(i, i + 1, '', output_symbol, weight)\n",
    "                        break\n",
    "            i += 1\n",
    "\n",
    "        result.add_final_state(i - 1)\n",
    "        return result\n",
    "    \n",
    "    def compose_alt(self, other):\n",
    "        result = WFST(self.category + other.category)\n",
    "        result.set_start_state(0)\n",
    "        i = 0\n",
    "        for s1 in self.states:\n",
    "            i = s1  \n",
    "            if s1 not in self.final_state:\n",
    "                for symbol1 in self.states[s1]:\n",
    "                    for (n1, o1, w1) in self.states[s1][symbol1]:\n",
    "                        result.add_transition(i, i + 1, symbol1, o1, w1)\n",
    "        if len(self.states) > len(other.states):\n",
    "            i = i - len(other.states) + 1\n",
    "        for s1 in other.states:\n",
    "            if s1 not in other.final_state:\n",
    "                for symbol1 in other.states[s1]:\n",
    "                    for (n1, o1, w1) in other.states[s1][symbol1]:\n",
    "                        result.add_transition(i, i + 1, symbol1, o1, w1)\n",
    "            i += 1\n",
    "\n",
    "        result.add_final_state(i - 1)\n",
    "        return result\n",
    "    \n",
    "    def output(self, wfst, input_sequence):\n",
    "        if not isinstance(wfst, CompositeWFST):\n",
    "            composite_wfst = CompositeWFST()\n",
    "            composite_wfst.add_wfst('name', wfst)\n",
    "        else:\n",
    "            composite_wfst = wfst\n",
    "        \n",
    "        wfst_sequence = []\n",
    "        for itr in input_sequence:\n",
    "            wfst = composite_wfst.compose(itr)\n",
    "            wfst_sequence.append(wfst)\n",
    "\n",
    "        composite_wfst = wfst_sequence[0]\n",
    "        for i in range(1, len(wfst_sequence)):\n",
    "            composite_wfst= composite_wfst.compose_alt(wfst_sequence[i])\n",
    "        print(input_sequence)\n",
    "        result = composite_wfst.process(input_sequence)\n",
    "\n",
    "        return result\n",
    "\n",
    "\n",
    "class CompositeWFST:\n",
    "    def __init__(self):\n",
    "        self.wfsts = {}\n",
    "    \n",
    "    def add_wfst(self, key, wfst):\n",
    "        self.wfsts[key] = wfst\n",
    "    \n",
    "    def compose(self, input_sequence):\n",
    "        if not input_sequence:\n",
    "            return []\n",
    "\n",
    "        wfst = self.wfsts.get(graph_input_category.get(input_sequence[0]))\n",
    "        composed_wfst = WFST(graph_input_category.get(input_sequence[0]))\n",
    "        composed_wfst.set_start_state(0)\n",
    "        for i in range(len(wfst.states) - 1):\n",
    "            if input_sequence[0] in wfst.states[i]:\n",
    "                for (next_state, output_symbol, weight) in wfst.states[i][input_sequence[0]]:\n",
    "                    composed_wfst.add_transition(i, next_state, input_sequence[0], output_symbol, weight)\n",
    "            elif '' in wfst.states[i]:\n",
    "                for (next_state, output_symbol, weight) in wfst.states[i]['']:\n",
    "                    composed_wfst.add_transition(i, next_state, '', output_symbol, weight)\n",
    "                    break\n",
    "\n",
    "        if not composed_wfst:\n",
    "            return []\n",
    "\n",
    "        for symbol in input_sequence[1:]:\n",
    "            next_wfst = self.wfsts.get(graph_input_category.get(symbol))\n",
    "            if next_wfst:\n",
    "                composed_wfst = composed_wfst.compose(next_wfst, symbol)\n",
    "            else:\n",
    "                return []\n",
    "\n",
    "        return composed_wfst\n",
    "    \n",
    "    def output(self, composite_wfst, input_sequence):\n",
    "        wfst_sequence = []\n",
    "        for itr in input_sequence:\n",
    "            wfst = composite_wfst.compose(itr)\n",
    "            wfst_sequence.append(wfst)\n",
    "\n",
    "        composite_wfst = wfst_sequence[0]\n",
    "        for i in range(1, len(wfst_sequence)):\n",
    "            composite_wfst= composite_wfst.compose_alt(wfst_sequence[i])\n",
    "        result = composite_wfst.process(input_sequence)\n",
    "\n",
    "        return result"
   ]
  },
  {
   "cell_type": "markdown",
   "metadata": {},
   "source": [
    "### Step 1: Define the WFST\n"
   ]
  },
  {
   "cell_type": "code",
   "execution_count": 159,
   "metadata": {},
   "outputs": [],
   "source": [
    "wfst = WFST('name')"
   ]
  },
  {
   "cell_type": "markdown",
   "metadata": {},
   "source": [
    "This creates an empty WFST. Now we need to add states and transitions.\n",
    "\n",
    "### Step 2: Set the Start State"
   ]
  },
  {
   "cell_type": "code",
   "execution_count": 160,
   "metadata": {},
   "outputs": [],
   "source": [
    "wfst.set_start_state(0)"
   ]
  },
  {
   "cell_type": "markdown",
   "metadata": {},
   "source": [
    "Here, we set the start state to `0`. States are represented by integers.\n",
    "\n",
    "### Step 3: Add States and Transitions\n",
    "Let's add some intermediary states and transitions between them."
   ]
  },
  {
   "cell_type": "code",
   "execution_count": 167,
   "metadata": {},
   "outputs": [],
   "source": [
    "wfst.add_state(1)\n",
    "wfst.add_state(2)\n",
    "wfst.add_transition(0, 1, 'a', 'x', 1.5)\n",
    "wfst.add_transition(1, 2, 'b', 'y', 1)"
   ]
  },
  {
   "cell_type": "markdown",
   "metadata": {},
   "source": [
    "This code adds two intermediary states (1 and 2) and connects them with transitions. The first transition maps input `a` to output `x` with a weight of `0.5`, and the second transition maps `b` to `y` with a weight of `1.0`.\n",
    "\n",
    "### Step 4: Define a Final State"
   ]
  },
  {
   "cell_type": "code",
   "execution_count": 168,
   "metadata": {},
   "outputs": [],
   "source": [
    "wfst.add_final_state(2)"
   ]
  },
  {
   "cell_type": "markdown",
   "metadata": {},
   "source": [
    "Marking state `2` as the final state means that if the WFST reaches this state, it successfully processes an input sequence.\n",
    "\n",
    "### Step 5: Process an Input Sequence\n",
    "Now let's process an input sequence to see how it works."
   ]
  },
  {
   "cell_type": "code",
   "execution_count": 169,
   "metadata": {},
   "outputs": [
    {
     "name": "stdout",
     "output_type": "stream",
     "text": [
      "['a', 'b']\n",
      "Output: xy, Weight: 2.5\n"
     ]
    }
   ],
   "source": [
    "input_sequence = ['a', 'b']\n",
    "output_sequence = wfst.output(wfst, input_sequence)\n",
    "print(f'Output: {output_sequence[1]}, Weight: {output_sequence[2]}')"
   ]
  },
  {
   "cell_type": "markdown",
   "metadata": {},
   "source": [
    "This processes the input sequence `['a', 'b']` through the WFST and prints the output sequence and the total weight (cost) of the transitions.\n",
    "\n",
    "You can now build your own WFST by following similar steps, adding states, transitions, and processing sequences."
   ]
  },
  {
   "cell_type": "markdown",
   "metadata": {},
   "source": [
    "## Advanced Example: Using Epsilon Transitions\n",
    "Sometimes, it's necessary to have transitions that don't consume any input (epsilon transitions).\n",
    "Let's add an epsilon transition to our previous example."
   ]
  },
  {
   "cell_type": "code",
   "execution_count": 164,
   "metadata": {},
   "outputs": [],
   "source": [
    "wfst.add_epsilon_transition(2, 0, 'c')"
   ]
  },
  {
   "cell_type": "markdown",
   "metadata": {},
   "source": [
    "This adds a transition from state `2` back to state `0` without consuming any input symbol. Epsilon transitions are useful in many applications such as text normalization."
   ]
  },
  {
   "cell_type": "markdown",
   "metadata": {},
   "source": [
    "## Building Your Own WFST\n",
    "You now have the basic tools to build your own WFST. Follow these steps to customize it for different applications:\n",
    "1. Define your start, intermediate, and final states.\n",
    "2. Add transitions with appropriate input/output symbols and weights.\n",
    "3. Use epsilon transitions if needed.\n",
    "4. Process input sequences to obtain output sequences and their associated costs.\n",
    "\n",
    "Feel free to experiment and adapt the WFST structure for tasks like text normalization, speech processing, or sequence mapping.\n"
   ]
  }
 ],
 "metadata": {
  "kernelspec": {
   "display_name": "Python 3",
   "language": "python",
   "name": "python3"
  },
  "language_info": {
   "codemirror_mode": {
    "name": "ipython",
    "version": 3
   },
   "file_extension": ".py",
   "mimetype": "text/x-python",
   "name": "python",
   "nbconvert_exporter": "python",
   "pygments_lexer": "ipython3",
   "version": "3.11.9"
  }
 },
 "nbformat": 4,
 "nbformat_minor": 2
}
